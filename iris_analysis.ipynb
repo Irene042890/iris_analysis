{
 "cells": [
  {
   "cell_type": "markdown",
   "id": "6e09e2d7",
   "metadata": {},
   "source": [
    "## 📘 **Analyzing Data with Pandas and Visualizing Results with Matplotlib**\n",
    "\n",
    "### 👨‍🎓 Assignment Objectives:\n",
    "- Load and explore a dataset using `pandas`.\n",
    "- Perform basic analysis.\n",
    "- Visualize the data using `matplotlib` (and optionally `seaborn`).\n",
    "- Present key insights clearly."
   ]
  },
  {
   "cell_type": "code",
   "execution_count": null,
   "id": "993d8739",
   "metadata": {},
   "outputs": [],
   "source": [
    "import pandas as pd\n",
    "import matplotlib.pyplot as plt\n",
    "import seaborn as sns\n",
    "from sklearn.datasets import load_iris\n",
    "%matplotlib inline"
   ]
  },
  {
   "cell_type": "markdown",
   "id": "b5fe2a5e",
   "metadata": {},
   "source": [
    "### 📂 **Task 1: Load and Explore the Dataset**"
   ]
  },
  {
   "cell_type": "code",
   "execution_count": null,
   "id": "d4f480d8",
   "metadata": {},
   "outputs": [],
   "source": [
    "iris = load_iris()\n",
    "df = pd.DataFrame(data=iris.data, columns=iris.feature_names)\n",
    "df['species'] = iris.target\n",
    "df['species'] = df['species'].map({i: species for i, species in enumerate(iris.target_names)})\n",
    "df.head()"
   ]
  },
  {
   "cell_type": "code",
   "execution_count": null,
   "id": "36f0bcb7",
   "metadata": {},
   "outputs": [],
   "source": [
    "df.info()\n",
    "df.isnull().sum()\n",
    "df.describe()"
   ]
  },
  {
   "cell_type": "markdown",
   "id": "b7fa481f",
   "metadata": {},
   "source": [
    "### 🧹 **Clean the Dataset**"
   ]
  },
  {
   "cell_type": "code",
   "execution_count": null,
   "id": "93795fc9",
   "metadata": {},
   "outputs": [],
   "source": [
    "df_cleaned = df.dropna()"
   ]
  },
  {
   "cell_type": "markdown",
   "id": "ad59e8da",
   "metadata": {},
   "source": [
    "### 📊 **Task 2: Basic Data Analysis**"
   ]
  },
  {
   "cell_type": "code",
   "execution_count": null,
   "id": "70bb5c8f",
   "metadata": {},
   "outputs": [],
   "source": [
    "df.describe()"
   ]
  },
  {
   "cell_type": "code",
   "execution_count": null,
   "id": "089e8185",
   "metadata": {},
   "outputs": [],
   "source": [
    "df.groupby('species').mean()"
   ]
  },
  {
   "cell_type": "markdown",
   "id": "d847a966",
   "metadata": {},
   "source": [
    "### 📈 **Task 3: Data Visualization**"
   ]
  },
  {
   "cell_type": "code",
   "execution_count": null,
   "id": "6bcd7116",
   "metadata": {},
   "outputs": [],
   "source": [
    "plt.figure(figsize=(10, 6))\n",
    "for species in df['species'].unique():\n",
    "    subset = df[df['species'] == species]\n",
    "    plt.plot(subset.index, subset['petal length (cm)'], label=species)\n",
    "plt.title(\"Petal Length over Index by Species\")\n",
    "plt.xlabel(\"Index\")\n",
    "plt.ylabel(\"Petal Length (cm)\")\n",
    "plt.legend()\n",
    "plt.grid(True)\n",
    "plt.show()"
   ]
  },
  {
   "cell_type": "code",
   "execution_count": null,
   "id": "cdaae74c",
   "metadata": {},
   "outputs": [],
   "source": [
    "avg_sepal_width = df.groupby('species')['sepal width (cm)'].mean()\n",
    "avg_sepal_width.plot(kind='bar', color=['skyblue', 'orange', 'green'])\n",
    "plt.title(\"Average Sepal Width per Species\")\n",
    "plt.ylabel(\"Sepal Width (cm)\")\n",
    "plt.xlabel(\"Species\")\n",
    "plt.grid(axis='y')\n",
    "plt.show()"
   ]
  },
  {
   "cell_type": "code",
   "execution_count": null,
   "id": "8e32bb46",
   "metadata": {},
   "outputs": [],
   "source": [
    "plt.hist(df['petal length (cm)'], bins=20, color='purple', edgecolor='black')\n",
    "plt.title(\"Distribution of Petal Length\")\n",
    "plt.xlabel(\"Petal Length (cm)\")\n",
    "plt.ylabel(\"Frequency\")\n",
    "plt.show()"
   ]
  },
  {
   "cell_type": "code",
   "execution_count": null,
   "id": "4a62dfdb",
   "metadata": {},
   "outputs": [],
   "source": [
    "sns.scatterplot(data=df, x='sepal length (cm)', y='petal length (cm)', hue='species')\n",
    "plt.title(\"Sepal Length vs Petal Length by Species\")\n",
    "plt.xlabel(\"Sepal Length (cm)\")\n",
    "plt.ylabel(\"Petal Length (cm)\")\n",
    "plt.show()"
   ]
  },
  {
   "cell_type": "markdown",
   "id": "18acd97a",
   "metadata": {},
   "source": [
    "### 🧠 **Findings / Observations**\n",
    "- **Setosa** species stands out clearly with shorter petals and slightly wider sepals.\n",
    "- **Virginica** has the longest petals, while **Versicolor** is intermediate.\n",
    "- Positive correlation between sepal length and petal length.\n",
    "- Visualizations help easily distinguish between the species based on feature dimensions."
   ]
  },
  {
   "cell_type": "markdown",
   "id": "efe625a5",
   "metadata": {},
   "source": [
    "### 💡 **Error Handling Example**"
   ]
  },
  {
   "cell_type": "code",
   "execution_count": null,
   "id": "f85784f6",
   "metadata": {},
   "outputs": [],
   "source": [
    "try:\n",
    "    df_check = pd.read_csv(\"iris.csv\")\n",
    "except FileNotFoundError:\n",
    "    print(\"File not found. Using sklearn dataset instead.\")"
   ]
  },
  {
   "cell_type": "markdown",
   "id": "fcade562",
   "metadata": {},
   "source": [
    "### 📝 Submission Checklist\n",
    "- ✅ Dataset loaded and cleaned\n",
    "- ✅ Basic analysis and grouping done\n",
    "- ✅ 4 types of visualizations included\n",
    "- ✅ Plots are labeled with titles and legends\n",
    "- ✅ Key insights mentioned"
   ]
  }
 ],
 "metadata": {},
 "nbformat": 4,
 "nbformat_minor": 5
}
